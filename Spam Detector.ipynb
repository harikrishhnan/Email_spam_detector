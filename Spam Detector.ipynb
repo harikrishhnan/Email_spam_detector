{
  "metadata": {
    "kernelspec": {
      "name": "python",
      "display_name": "Python (Pyodide)",
      "language": "python"
    },
    "language_info": {
      "codemirror_mode": {
        "name": "python",
        "version": 3
      },
      "file_extension": ".py",
      "mimetype": "text/x-python",
      "name": "python",
      "nbconvert_exporter": "python",
      "pygments_lexer": "ipython3",
      "version": "3.8"
    }
  },
  "nbformat_minor": 4,
  "nbformat": 4,
  "cells": [
    {
      "cell_type": "markdown",
      "source": "# SPAM DETECTOR\n\nThis spam detector leverages machine learning to automatically classify emails as spam or legitimate based on their content, providing a practical tool for filtering unwanted or potentially harmful messages.",
      "metadata": {}
    },
    {
      "cell_type": "markdown",
      "source": "### Importing Libraries\r\n",
      "metadata": {}
    },
    {
      "cell_type": "code",
      "source": "import pandas as pd\nfrom sklearn.feature_extraction.text import TfidfVectorizer\nfrom sklearn.model_selection import train_test_split\nfrom sklearn.naive_bayes import MultinomialNB\nfrom sklearn.metrics import classification_report, accuracy_score\nfrom sklearn.utils import resample\nimport re",
      "metadata": {
        "trusted": true
      },
      "outputs": [],
      "execution_count": 47
    },
    {
      "cell_type": "markdown",
      "source": "This section imports necessary libraries for data manipulation, text vectorization, model training, and evaluation.",
      "metadata": {}
    },
    {
      "cell_type": "markdown",
      "source": "### Data Loading",
      "metadata": {}
    },
    {
      "cell_type": "code",
      "source": "data = pd.read_csv(\"emails_dataset.csv\")",
      "metadata": {
        "trusted": true
      },
      "outputs": [],
      "execution_count": 48
    },
    {
      "cell_type": "markdown",
      "source": "Here, you load your email dataset into a Pandas DataFrame named `data` using the `pd.read_csv()` function.",
      "metadata": {}
    },
    {
      "cell_type": "markdown",
      "source": "### Data Cleaning and Preprocessing",
      "metadata": {}
    },
    {
      "cell_type": "code",
      "source": "data['Message'] = data['Message'].str.lower()\ndata['Message'] = data['Message'].apply(lambda x: re.sub(r\"[^a-zA-Z0-9']\", ' ', x))",
      "metadata": {
        "trusted": true
      },
      "outputs": [],
      "execution_count": 49
    },
    {
      "cell_type": "markdown",
      "source": "This section cleans and preprocesses the text data in the 'Message' column. It converts the text to lowercase and removes non-alphanumeric characters, retaining only letters, numbers, and single quotes.",
      "metadata": {}
    },
    {
      "cell_type": "markdown",
      "source": "### Feature Engineering",
      "metadata": {}
    },
    {
      "cell_type": "code",
      "source": "vectorizer = TfidfVectorizer()\nX = vectorizer.fit_transform(data['Message'])",
      "metadata": {
        "trusted": true
      },
      "outputs": [],
      "execution_count": 50
    },
    {
      "cell_type": "markdown",
      "source": "Feature engineering involves converting the text data into a numerical format using TF-IDF vectorization. The `TfidfVectorizer` is used to transform the text messages into a TF-IDF matrix (`X`).",
      "metadata": {}
    },
    {
      "cell_type": "markdown",
      "source": "### Oversampling for Handling Imbalanced Classes",
      "metadata": {}
    },
    {
      "cell_type": "code",
      "source": "spam = data[data['Classification'] == 'spam']\nham = data[data['Classification'] == 'ham']\nspam_upsampled = resample(spam, replace=True, n_samples=len(ham), random_state=42)\ndata_resampled = pd.concat([ham, spam_upsampled])",
      "metadata": {
        "trusted": true
      },
      "outputs": [],
      "execution_count": 51
    },
    {
      "cell_type": "markdown",
      "source": "To handle imbalanced classes, this section oversamples the minority class ('spam') to match the number of samples in the majority class ('ham'). The upsampled 'spam' data is then combined with the original 'ham' data.",
      "metadata": {}
    },
    {
      "cell_type": "markdown",
      "source": "### Train-Test Split",
      "metadata": {}
    },
    {
      "cell_type": "code",
      "source": "X_train, X_test, y_train, y_test = train_test_split(\n    vectorizer.transform(data_resampled['Message']),\n    data_resampled['Classification'],\n    test_size=0.20,\n    random_state=42\n)",
      "metadata": {
        "trusted": true
      },
      "outputs": [],
      "execution_count": 52
    },
    {
      "cell_type": "markdown",
      "source": "The dataset is split into training and testing sets using the `train_test_split` function. The TF-IDF-transformed messages (`X`) are split along with the corresponding classifications ('spam' or 'ham').",
      "metadata": {}
    },
    {
      "cell_type": "markdown",
      "source": "### Model Training",
      "metadata": {}
    },
    {
      "cell_type": "code",
      "source": "clf = MultinomialNB()\nclf.fit(X_train, y_train)",
      "metadata": {
        "trusted": true
      },
      "outputs": [
        {
          "execution_count": 53,
          "output_type": "execute_result",
          "data": {
            "text/plain": "MultinomialNB()",
            "text/html": "<style>#sk-container-id-2 {color: black;}#sk-container-id-2 pre{padding: 0;}#sk-container-id-2 div.sk-toggleable {background-color: white;}#sk-container-id-2 label.sk-toggleable__label {cursor: pointer;display: block;width: 100%;margin-bottom: 0;padding: 0.3em;box-sizing: border-box;text-align: center;}#sk-container-id-2 label.sk-toggleable__label-arrow:before {content: \"▸\";float: left;margin-right: 0.25em;color: #696969;}#sk-container-id-2 label.sk-toggleable__label-arrow:hover:before {color: black;}#sk-container-id-2 div.sk-estimator:hover label.sk-toggleable__label-arrow:before {color: black;}#sk-container-id-2 div.sk-toggleable__content {max-height: 0;max-width: 0;overflow: hidden;text-align: left;background-color: #f0f8ff;}#sk-container-id-2 div.sk-toggleable__content pre {margin: 0.2em;color: black;border-radius: 0.25em;background-color: #f0f8ff;}#sk-container-id-2 input.sk-toggleable__control:checked~div.sk-toggleable__content {max-height: 200px;max-width: 100%;overflow: auto;}#sk-container-id-2 input.sk-toggleable__control:checked~label.sk-toggleable__label-arrow:before {content: \"▾\";}#sk-container-id-2 div.sk-estimator input.sk-toggleable__control:checked~label.sk-toggleable__label {background-color: #d4ebff;}#sk-container-id-2 div.sk-label input.sk-toggleable__control:checked~label.sk-toggleable__label {background-color: #d4ebff;}#sk-container-id-2 input.sk-hidden--visually {border: 0;clip: rect(1px 1px 1px 1px);clip: rect(1px, 1px, 1px, 1px);height: 1px;margin: -1px;overflow: hidden;padding: 0;position: absolute;width: 1px;}#sk-container-id-2 div.sk-estimator {font-family: monospace;background-color: #f0f8ff;border: 1px dotted black;border-radius: 0.25em;box-sizing: border-box;margin-bottom: 0.5em;}#sk-container-id-2 div.sk-estimator:hover {background-color: #d4ebff;}#sk-container-id-2 div.sk-parallel-item::after {content: \"\";width: 100%;border-bottom: 1px solid gray;flex-grow: 1;}#sk-container-id-2 div.sk-label:hover label.sk-toggleable__label {background-color: #d4ebff;}#sk-container-id-2 div.sk-serial::before {content: \"\";position: absolute;border-left: 1px solid gray;box-sizing: border-box;top: 0;bottom: 0;left: 50%;z-index: 0;}#sk-container-id-2 div.sk-serial {display: flex;flex-direction: column;align-items: center;background-color: white;padding-right: 0.2em;padding-left: 0.2em;position: relative;}#sk-container-id-2 div.sk-item {position: relative;z-index: 1;}#sk-container-id-2 div.sk-parallel {display: flex;align-items: stretch;justify-content: center;background-color: white;position: relative;}#sk-container-id-2 div.sk-item::before, #sk-container-id-2 div.sk-parallel-item::before {content: \"\";position: absolute;border-left: 1px solid gray;box-sizing: border-box;top: 0;bottom: 0;left: 50%;z-index: -1;}#sk-container-id-2 div.sk-parallel-item {display: flex;flex-direction: column;z-index: 1;position: relative;background-color: white;}#sk-container-id-2 div.sk-parallel-item:first-child::after {align-self: flex-end;width: 50%;}#sk-container-id-2 div.sk-parallel-item:last-child::after {align-self: flex-start;width: 50%;}#sk-container-id-2 div.sk-parallel-item:only-child::after {width: 0;}#sk-container-id-2 div.sk-dashed-wrapped {border: 1px dashed gray;margin: 0 0.4em 0.5em 0.4em;box-sizing: border-box;padding-bottom: 0.4em;background-color: white;}#sk-container-id-2 div.sk-label label {font-family: monospace;font-weight: bold;display: inline-block;line-height: 1.2em;}#sk-container-id-2 div.sk-label-container {text-align: center;}#sk-container-id-2 div.sk-container {/* jupyter's `normalize.less` sets `[hidden] { display: none; }` but bootstrap.min.css set `[hidden] { display: none !important; }` so we also need the `!important` here to be able to override the default hidden behavior on the sphinx rendered scikit-learn.org. See: https://github.com/scikit-learn/scikit-learn/issues/21755 */display: inline-block !important;position: relative;}#sk-container-id-2 div.sk-text-repr-fallback {display: none;}</style><div id=\"sk-container-id-2\" class=\"sk-top-container\"><div class=\"sk-text-repr-fallback\"><pre>MultinomialNB()</pre><b>In a Jupyter environment, please rerun this cell to show the HTML representation or trust the notebook. <br />On GitHub, the HTML representation is unable to render, please try loading this page with nbviewer.org.</b></div><div class=\"sk-container\" hidden><div class=\"sk-item\"><div class=\"sk-estimator sk-toggleable\"><input class=\"sk-toggleable__control sk-hidden--visually\" id=\"sk-estimator-id-2\" type=\"checkbox\" checked><label for=\"sk-estimator-id-2\" class=\"sk-toggleable__label sk-toggleable__label-arrow\">MultinomialNB</label><div class=\"sk-toggleable__content\"><pre>MultinomialNB()</pre></div></div></div></div></div>"
          },
          "metadata": {}
        }
      ],
      "execution_count": 53
    },
    {
      "cell_type": "markdown",
      "source": "A Multinomial Naive Bayes classifier (`MultinomialNB`) is trained on the training data (`X_train` and `y_train`) using the `fit` method.",
      "metadata": {}
    },
    {
      "cell_type": "markdown",
      "source": "### Model Evaluation",
      "metadata": {}
    },
    {
      "cell_type": "code",
      "source": "y_pred = clf.predict(X_test)\nprint(\"Accuracy:\", accuracy_score(y_test, y_pred))\nprint(classification_report(y_test, y_pred))",
      "metadata": {
        "trusted": true
      },
      "outputs": [
        {
          "name": "stdout",
          "text": "Accuracy: 0.9844527363184079\n              precision    recall  f1-score   support\n\n         ham       0.99      0.98      0.98       797\n        spam       0.98      0.99      0.98       811\n\n    accuracy                           0.98      1608\n   macro avg       0.98      0.98      0.98      1608\nweighted avg       0.98      0.98      0.98      1608\n\n",
          "output_type": "stream"
        }
      ],
      "execution_count": 54
    },
    {
      "cell_type": "markdown",
      "source": "The trained model is evaluated on the test set, and accuracy along with a detailed classification report is printed.",
      "metadata": {}
    },
    {
      "cell_type": "markdown",
      "source": "### Model Verifying/Testing (Manual)",
      "metadata": {}
    },
    {
      "cell_type": "code",
      "source": "msg = vectorizer.transform([\"Dear Lucky Beneciary,You have been selected to receive the sum of “€1,000,000.00” as charity dona-tions/aid from the Qatar Foundation, on the 20th of June 2016. Contact  Mr. Rashid Al-Naimi through e-mail for more information: rashidalnai@gmail.com\"])\nprediction = clf.predict(msg)\nprint(\"The email is :\", prediction[0])",
      "metadata": {
        "trusted": true
      },
      "outputs": [
        {
          "name": "stdout",
          "text": "The email is : spam\n",
          "output_type": "stream"
        }
      ],
      "execution_count": 55
    },
    {
      "cell_type": "markdown",
      "source": "Finally, a manual test is performed on a sample email message. The message is transformed using the TF-IDF vectorizer, and the trained classifier predicts whether it is 'spam' or 'ham'. The result is printed.",
      "metadata": {}
    }
  ]
}